{
 "cells": [
  {
   "cell_type": "code",
   "execution_count": 1,
   "id": "initial_id",
   "metadata": {
    "collapsed": true,
    "ExecuteTime": {
     "end_time": "2025-09-17T08:24:35.740229Z",
     "start_time": "2025-09-17T08:24:28.790504Z"
    }
   },
   "outputs": [],
   "source": [
    "import pandas as pd"
   ]
  },
  {
   "cell_type": "markdown",
   "source": [
    "#### Q1"
   ],
   "metadata": {
    "collapsed": false
   },
   "id": "a04f679535a8ba2e"
  },
  {
   "cell_type": "code",
   "execution_count": 2,
   "outputs": [
    {
     "data": {
      "text/plain": "'2.3.2'"
     },
     "execution_count": 2,
     "metadata": {},
     "output_type": "execute_result"
    }
   ],
   "source": [
    "pd.__version__"
   ],
   "metadata": {
    "collapsed": false,
    "ExecuteTime": {
     "end_time": "2025-09-17T08:27:00.208652Z",
     "start_time": "2025-09-17T08:27:00.158852Z"
    }
   },
   "id": "4a078f19e7df3e69"
  },
  {
   "cell_type": "markdown",
   "source": [
    "#### Q2 "
   ],
   "metadata": {
    "collapsed": false
   },
   "id": "e2efa09d22af916"
  },
  {
   "cell_type": "code",
   "execution_count": 42,
   "outputs": [
    {
     "data": {
      "text/plain": "np.int64(9704)"
     },
     "execution_count": 42,
     "metadata": {},
     "output_type": "execute_result"
    }
   ],
   "source": [
    "cars_df = pd.read_csv(\"https://raw.githubusercontent.com/alexeygrigorev/datasets/master/car_fuel_efficiency.csv\")\n",
    "cars_df.count().max()"
   ],
   "metadata": {
    "collapsed": false,
    "ExecuteTime": {
     "end_time": "2025-09-17T10:46:46.195560Z",
     "start_time": "2025-09-17T10:46:45.759779Z"
    }
   },
   "id": "7fb4a64288c0ce42"
  },
  {
   "cell_type": "markdown",
   "source": [
    "#### Q3 "
   ],
   "metadata": {
    "collapsed": false
   },
   "id": "9a9227bc4b6b0266"
  },
  {
   "cell_type": "code",
   "execution_count": 43,
   "outputs": [
    {
     "data": {
      "text/plain": "2"
     },
     "execution_count": 43,
     "metadata": {},
     "output_type": "execute_result"
    }
   ],
   "source": [
    "cars_df[\"fuel_type\"].nunique()"
   ],
   "metadata": {
    "collapsed": false,
    "ExecuteTime": {
     "end_time": "2025-09-17T18:11:48.579585Z",
     "start_time": "2025-09-17T18:11:48.570098Z"
    }
   },
   "id": "90d361b14e4dc894"
  },
  {
   "cell_type": "markdown",
   "source": [
    "#### Q4 "
   ],
   "metadata": {
    "collapsed": false
   },
   "id": "9aa8b00f9cf7c6eb"
  },
  {
   "cell_type": "code",
   "execution_count": 36,
   "outputs": [
    {
     "data": {
      "text/plain": "4"
     },
     "execution_count": 36,
     "metadata": {},
     "output_type": "execute_result"
    }
   ],
   "source": [
    "na_cols = sum([1 if cars_df[col].isna().sum() > 0 else 0 for col in cars_df.columns])\n",
    "na_cols"
   ],
   "metadata": {
    "collapsed": false,
    "ExecuteTime": {
     "end_time": "2025-09-17T10:18:13.407420Z",
     "start_time": "2025-09-17T10:18:13.393464Z"
    }
   },
   "id": "65cf4f08cdfca10"
  },
  {
   "cell_type": "markdown",
   "source": [
    "#### Q5 "
   ],
   "metadata": {
    "collapsed": false
   },
   "id": "a38305ea80e05765"
  },
  {
   "cell_type": "code",
   "execution_count": 37,
   "outputs": [
    {
     "data": {
      "text/plain": "np.float64(23.759122836520497)"
     },
     "execution_count": 37,
     "metadata": {},
     "output_type": "execute_result"
    }
   ],
   "source": [
    "cars_df[cars_df[\"origin\"] == \"Asia\"][\"fuel_efficiency_mpg\"].max()"
   ],
   "metadata": {
    "collapsed": false,
    "ExecuteTime": {
     "end_time": "2025-09-17T10:23:59.665648Z",
     "start_time": "2025-09-17T10:23:59.646335Z"
    }
   },
   "id": "e8f1efba65a93c6b"
  },
  {
   "cell_type": "markdown",
   "source": [
    "#### Q6 "
   ],
   "metadata": {
    "collapsed": false
   },
   "id": "feaed766725b2094"
  },
  {
   "cell_type": "code",
   "execution_count": 39,
   "outputs": [
    {
     "data": {
      "text/plain": "np.float64(0.0)"
     },
     "execution_count": 39,
     "metadata": {},
     "output_type": "execute_result"
    }
   ],
   "source": [
    "median_original = cars_df[\"horsepower\"].median()\n",
    "mode_original = cars_df[\"horsepower\"].mode()\n",
    "\n",
    "median_fillna = cars_df[\"horsepower\"].fillna(mode_original).median()\n",
    "\n",
    "median_original - median_fillna"
   ],
   "metadata": {
    "collapsed": false,
    "ExecuteTime": {
     "end_time": "2025-09-17T10:30:35.054656Z",
     "start_time": "2025-09-17T10:30:35.030916Z"
    }
   },
   "id": "b7d23a34c9954f25"
  },
  {
   "cell_type": "markdown",
   "source": [
    "#### Q7  "
   ],
   "metadata": {
    "collapsed": false
   },
   "id": "af5a9d605d439419"
  },
  {
   "cell_type": "code",
   "execution_count": 41,
   "outputs": [
    {
     "data": {
      "text/plain": "np.float64(0.5187709081074025)"
     },
     "execution_count": 41,
     "metadata": {},
     "output_type": "execute_result"
    }
   ],
   "source": [
    "X = cars_df[cars_df[\"origin\"] == \"Asia\"][[\"vehicle_weight\", \"model_year\"]].head(7).to_numpy()\n",
    "\n",
    "import numpy as np\n",
    "XTX = X.T.dot(X)\n",
    "XTX_to_minus1 = np.linalg.inv(XTX)\n",
    "\n",
    "y = np.array([1100, 1300, 800, 900, 1000, 1100, 1200])\n",
    "\n",
    "w = XTX_to_minus1.dot(X.T).dot(y)\n",
    "w.sum()"
   ],
   "metadata": {
    "collapsed": false,
    "ExecuteTime": {
     "end_time": "2025-09-17T10:44:12.189989Z",
     "start_time": "2025-09-17T10:44:12.168143Z"
    }
   },
   "id": "43c2e3330d74f560"
  },
  {
   "cell_type": "code",
   "execution_count": null,
   "outputs": [],
   "source": [],
   "metadata": {
    "collapsed": false
   },
   "id": "f55da3887917a275"
  }
 ],
 "metadata": {
  "kernelspec": {
   "display_name": "Python 3",
   "language": "python",
   "name": "python3"
  },
  "language_info": {
   "codemirror_mode": {
    "name": "ipython",
    "version": 2
   },
   "file_extension": ".py",
   "mimetype": "text/x-python",
   "name": "python",
   "nbconvert_exporter": "python",
   "pygments_lexer": "ipython2",
   "version": "2.7.6"
  }
 },
 "nbformat": 4,
 "nbformat_minor": 5
}
