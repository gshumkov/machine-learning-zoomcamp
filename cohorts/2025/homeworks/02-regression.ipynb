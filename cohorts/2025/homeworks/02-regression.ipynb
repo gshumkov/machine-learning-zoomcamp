{
 "cells": [
  {
   "cell_type": "code",
   "execution_count": 66,
   "id": "initial_id",
   "metadata": {
    "collapsed": true,
    "ExecuteTime": {
     "end_time": "2025-10-04T10:22:25.949691Z",
     "start_time": "2025-10-04T10:22:25.589022Z"
    }
   },
   "outputs": [],
   "source": [
    "import pandas as pd\n",
    "cars_df = pd.read_csv(\"https://raw.githubusercontent.com/alexeygrigorev/datasets/master/car_fuel_efficiency.csv\")"
   ]
  },
  {
   "cell_type": "code",
   "execution_count": 67,
   "outputs": [],
   "source": [
    "features = ['engine_displacement',\n",
    "            'horsepower',\n",
    "            'vehicle_weight',\n",
    "            'model_year']\n",
    "df = cars_df[features].copy()"
   ],
   "metadata": {
    "collapsed": false,
    "ExecuteTime": {
     "end_time": "2025-10-04T10:22:25.967464Z",
     "start_time": "2025-10-04T10:22:25.951240Z"
    }
   },
   "id": "31b206eaeab1aae4"
  },
  {
   "cell_type": "code",
   "execution_count": 68,
   "outputs": [
    {
     "data": {
      "text/plain": "<Axes: xlabel='fuel_efficiency_mpg', ylabel='Count'>"
     },
     "execution_count": 68,
     "metadata": {},
     "output_type": "execute_result"
    },
    {
     "data": {
      "text/plain": "<Figure size 640x480 with 1 Axes>",
      "image/png": "[encoded data removed]"
     },
     "metadata": {},
     "output_type": "display_data"
    }
   ],
   "source": [
    "import seaborn as sns\n",
    "\n",
    "sns.histplot(cars_df.fuel_efficiency_mpg, bins=50)"
   ],
   "metadata": {
    "collapsed": false,
    "ExecuteTime": {
     "end_time": "2025-10-04T10:22:26.040841Z",
     "start_time": "2025-10-04T10:22:25.955363Z"
    }
   },
   "id": "3a15d7f57236f95"
  },
  {
   "cell_type": "markdown",
   "source": [
    "#### Q1"
   ],
   "metadata": {
    "collapsed": false
   },
   "id": "959545bcc5971556"
  },
  {
   "cell_type": "code",
   "execution_count": 69,
   "outputs": [
    {
     "data": {
      "text/plain": "engine_displacement      0\nhorsepower             708\nvehicle_weight           0\nmodel_year               0\ndtype: int64"
     },
     "execution_count": 69,
     "metadata": {},
     "output_type": "execute_result"
    }
   ],
   "source": [
    "df.isnull().sum()"
   ],
   "metadata": {
    "collapsed": false,
    "ExecuteTime": {
     "end_time": "2025-10-04T10:22:26.041198Z",
     "start_time": "2025-10-04T10:22:26.033340Z"
    }
   },
   "id": "bec030da43dbce44"
  },
  {
   "cell_type": "markdown",
   "source": [
    "#### Q2"
   ],
   "metadata": {
    "collapsed": false
   },
   "id": "7893c25860708d7"
  },
  {
   "cell_type": "code",
   "execution_count": 70,
   "outputs": [
    {
     "data": {
      "text/plain": "np.float64(149.0)"
     },
     "execution_count": 70,
     "metadata": {},
     "output_type": "execute_result"
    }
   ],
   "source": [
    "cars_df['horsepower'].median()"
   ],
   "metadata": {
    "collapsed": false,
    "ExecuteTime": {
     "end_time": "2025-10-04T10:22:26.041305Z",
     "start_time": "2025-10-04T10:22:26.037770Z"
    }
   },
   "id": "f76e3e9f823de7da"
  },
  {
   "cell_type": "markdown",
   "source": [
    "#### Prepare and split the dataset"
   ],
   "metadata": {
    "collapsed": false
   },
   "id": "772b8e3bd86956f7"
  },
  {
   "cell_type": "code",
   "execution_count": 71,
   "outputs": [],
   "source": [
    "import numpy as np\n",
    "\n",
    "\n",
    "class ModelData:\n",
    "    def __init__(self, df: pd.DataFrame, random_seed: int, target_var: str, *features: str):\n",
    "        self._df = df.copy()\n",
    "        self._target_var = target_var\n",
    "        self._features = list(features)\n",
    "\n",
    "        self._n = len(df)\n",
    "        self._n_val = int(self._n * 0.2)\n",
    "        self._n_test = int(self._n * 0.2)\n",
    "        self._n_train = self._n - self._n_val - self._n_test\n",
    "\n",
    "        self._random_seed = random_seed\n",
    "        np.random.seed(self._random_seed)\n",
    "        idx = np.arange(self._n)\n",
    "        np.random.shuffle(idx)\n",
    "\n",
    "        self._df_train = self._df[self._features].iloc[idx[:self._n_train]]\n",
    "        self._df_val = self._df[self._features].iloc[idx[self._n_train:self._n_train + self._n_val]]\n",
    "        self._df_test = self._df[self._features].iloc[idx[self._n_train + self._n_val:]]\n",
    "\n",
    "        self._y_train = self._df[self._target_var].iloc[idx[:self._n_train]].values\n",
    "        self._y_val = self._df[self._target_var].iloc[idx[self._n_train:self._n_train + self._n_val]].values\n",
    "        self._y_test = self._df[self._target_var].iloc[idx[self._n_train + self._n_val:]].values\n",
    "\n",
    "    def reinit(self, new_seed: int) -> 'ModelData':\n",
    "        return ModelData(self._df, new_seed, self._target_var, *self._features)"
   ],
   "metadata": {
    "collapsed": false,
    "ExecuteTime": {
     "end_time": "2025-10-04T10:22:26.050768Z",
     "start_time": "2025-10-04T10:22:26.043249Z"
    }
   },
   "id": "2019c0268277a962"
  },
  {
   "cell_type": "code",
   "execution_count": 72,
   "outputs": [],
   "source": [
    "model_data = ModelData(cars_df, 42, 'fuel_efficiency_mpg', *features)"
   ],
   "metadata": {
    "collapsed": false,
    "ExecuteTime": {
     "end_time": "2025-10-04T10:22:26.051540Z",
     "start_time": "2025-10-04T10:22:26.045274Z"
    }
   },
   "id": "30feab5b94abab7a"
  },
  {
   "cell_type": "markdown",
   "source": [
    "#### Q3"
   ],
   "metadata": {
    "collapsed": false
   },
   "id": "9732e5337b72f748"
  },
  {
   "cell_type": "code",
   "execution_count": 73,
   "outputs": [],
   "source": [
    "def train_linear_regression(X, y):\n",
    "    ones = np.ones(X.shape[0])\n",
    "    X = np.column_stack([ones, X])\n",
    "    \n",
    "    XTX = X.T.dot(X)\n",
    "    XTX_inv = np.linalg.inv(XTX)\n",
    "    w_full = XTX_inv.dot(X.T).dot(y)\n",
    "    return w_full[0], w_full[1:]"
   ],
   "metadata": {
    "collapsed": false,
    "ExecuteTime": {
     "end_time": "2025-10-04T10:22:26.051936Z",
     "start_time": "2025-10-04T10:22:26.049700Z"
    }
   },
   "id": "9a4997eef4ea504"
  },
  {
   "cell_type": "code",
   "execution_count": 74,
   "outputs": [],
   "source": [
    "def rsme(y, y_pred):\n",
    "    se = (y - y_pred) ** 2\n",
    "    mse = se.mean()\n",
    "    return np.sqrt(mse)"
   ],
   "metadata": {
    "collapsed": false,
    "ExecuteTime": {
     "end_time": "2025-10-04T10:22:26.081382Z",
     "start_time": "2025-10-04T10:22:26.052081Z"
    }
   },
   "id": "2f9b6525121d9a03"
  },
  {
   "cell_type": "code",
   "execution_count": 75,
   "outputs": [
    {
     "name": "stdout",
     "output_type": "stream",
     "text": [
      "Fill value: 0, RSME: 0.52\n",
      "Fill value: 149.54476367006487, RSME: 0.46\n"
     ]
    }
   ],
   "source": [
    "fill_values = [0, model_data._df_train['horsepower'].mean()]\n",
    "def prepare_X(df_x, fill_value):\n",
    "    df_x = df_x.copy()\n",
    "    df_x['horsepower'] = df_x['horsepower'].fillna(fill_value)\n",
    "    return df_x.values\n",
    "\n",
    "for f_val in fill_values:\n",
    "    X_train = prepare_X(model_data._df_train, f_val)\n",
    "    w0, w = train_linear_regression(X_train, model_data._y_train)\n",
    "    \n",
    "    X_val = prepare_X(model_data._df_val, f_val)\n",
    "    y_pred = w0 + X_val.dot(w)\n",
    "    score = rsme(model_data._y_val, y_pred)\n",
    "    print(f'Fill value: {f_val}, RSME: {score:.2f}')"
   ],
   "metadata": {
    "collapsed": false,
    "ExecuteTime": {
     "end_time": "2025-10-04T10:22:26.081709Z",
     "start_time": "2025-10-04T10:22:26.054694Z"
    }
   },
   "id": "362b9323e5d7fdda"
  },
  {
   "cell_type": "markdown",
   "source": [
    "#### Q4"
   ],
   "metadata": {
    "collapsed": false
   },
   "id": "868b45bf9472a64a"
  },
  {
   "cell_type": "code",
   "execution_count": 76,
   "outputs": [
    {
     "name": "stdout",
     "output_type": "stream",
     "text": [
      "R: 0, RSME: 0.52\n",
      "R: 0.01, RSME: 0.52\n",
      "R: 0.1, RSME: 0.52\n",
      "R: 1, RSME: 0.52\n",
      "R: 5, RSME: 0.52\n",
      "R: 10, RSME: 0.52\n",
      "R: 100, RSME: 0.52\n"
     ]
    }
   ],
   "source": [
    "r_values = [0, 0.01, 0.1, 1, 5, 10, 100]\n",
    "def prepare_X(df_x):\n",
    "    df_x = df_x.copy()\n",
    "    df_x['horsepower'] = df_x['horsepower'].fillna(0)\n",
    "    return df_x.values\n",
    "\n",
    "def train_linear_regression_with_regularization(X, y, r):\n",
    "    ones = np.ones(X.shape[0])\n",
    "    X = np.column_stack([ones, X])\n",
    "    \n",
    "    XTX = X.T.dot(X)\n",
    "    XTX = XTX + r * np.eye(XTX.shape[0])\n",
    "    XTX_inv = np.linalg.inv(XTX)\n",
    "    w_full = XTX_inv.dot(X.T).dot(y)\n",
    "    return w_full[0], w_full[1:]\n",
    "    \n",
    "X_train = prepare_X(model_data._df_train)\n",
    "X_val = prepare_X(model_data._df_val)\n",
    "for r in r_values:\n",
    "    w0, w = train_linear_regression_with_regularization(X_train, model_data._y_train, r)\n",
    "    \n",
    "    y_pred = w0 + X_val.dot(w)\n",
    "    score = rsme(model_data._y_val, y_pred)\n",
    "    print(f'R: {r}, RSME: {score:.2f}')"
   ],
   "metadata": {
    "collapsed": false,
    "ExecuteTime": {
     "end_time": "2025-10-04T10:22:26.081806Z",
     "start_time": "2025-10-04T10:22:26.059654Z"
    }
   },
   "id": "678b9547e2b8c018"
  },
  {
   "cell_type": "markdown",
   "source": [
    "#### Q5"
   ],
   "metadata": {
    "collapsed": false
   },
   "id": "c675225f8060eccd"
  },
  {
   "cell_type": "code",
   "execution_count": 77,
   "outputs": [
    {
     "name": "stdout",
     "output_type": "stream",
     "text": [
      "Std of scores: 0.007\n"
     ]
    }
   ],
   "source": [
    "seeds = [0, 1, 2, 3, 4, 5, 6, 7, 8, 9]\n",
    "def model_score(model_data):\n",
    "    X_train = prepare_X(model_data._df_train)\n",
    "    X_val = prepare_X(model_data._df_val)\n",
    "    \n",
    "    w0, w = train_linear_regression(X_train, model_data._y_train)\n",
    "    y_pred = w0 + X_val.dot(w)\n",
    "    score = rsme(model_data._y_val, y_pred)\n",
    "    return score\n",
    "\n",
    "scores = [model_score(model_data.reinit(x)) for x in seeds]\n",
    "print(f'Std of scores: {np.std(scores):.3f}')"
   ],
   "metadata": {
    "collapsed": false,
    "ExecuteTime": {
     "end_time": "2025-10-04T10:22:26.102341Z",
     "start_time": "2025-10-04T10:22:26.064023Z"
    }
   },
   "id": "8e55295b83943ca2"
  },
  {
   "cell_type": "markdown",
   "source": [
    "#### Q6"
   ],
   "metadata": {
    "collapsed": false
   },
   "id": "12c8c2f73f773d42"
  },
  {
   "cell_type": "code",
   "execution_count": 78,
   "outputs": [
    {
     "name": "stdout",
     "output_type": "stream",
     "text": [
      "Test RSME: 0.516\n"
     ]
    }
   ],
   "source": [
    "model_data = model_data.reinit(9)\n",
    "X_train = prepare_X(pd.concat([model_data._df_train, model_data._df_val]))\n",
    "y_train = np.concatenate([model_data._y_train, model_data._y_val])\n",
    "w0, w = train_linear_regression_with_regularization(X_train, y_train, 0.001)\n",
    "\n",
    "X_test = prepare_X(model_data._df_test)\n",
    "y_pred = w0 + X_test.dot(w)\n",
    "score = rsme(model_data._y_test, y_pred)\n",
    "print(f'Test RSME: {score:.3f}')"
   ],
   "metadata": {
    "collapsed": false,
    "ExecuteTime": {
     "end_time": "2025-10-04T10:22:26.103702Z",
     "start_time": "2025-10-04T10:22:26.080544Z"
    }
   },
   "id": "7eb60215d4d25421"
  }
 ],
 "metadata": {
  "kernelspec": {
   "display_name": "Python 3",
   "language": "python",
   "name": "python3"
  },
  "language_info": {
   "codemirror_mode": {
    "name": "ipython",
    "version": 2
   },
   "file_extension": ".py",
   "mimetype": "text/x-python",
   "name": "python",
   "nbconvert_exporter": "python",
   "pygments_lexer": "ipython2",
   "version": "2.7.6"
  }
 },
 "nbformat": 4,
 "nbformat_minor": 5
}
